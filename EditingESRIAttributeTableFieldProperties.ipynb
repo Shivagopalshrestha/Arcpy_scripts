{
 "cells": [
  {
   "cell_type": "code",
   "execution_count": null,
   "metadata": {},
   "outputs": [],
   "source": [
    "# Import required libraries and set workspace\n",
    "\n",
    "import arcpy\n",
    "from arcpy import env\n",
    "\n",
    "env.workspace = r\"Z:\\FORT_DataManagement\\Manier_2017_WetlandPlayaClassification\\GPLCC_WetLand_Playa_Classification_DataRelease.gdb\\PlayaVector\""
   ]
  },
  {
   "cell_type": "code",
   "execution_count": null,
   "metadata": {},
   "outputs": [],
   "source": [
    "# Set variables\n",
    "\n",
    "# The feature class that will be updated\n",
    "fc = r\"Z:\\FORT_DataManagement\\Manier_2017_WetlandPlayaClassification\\GPLCC_WetLand_Playa_Classification_DataRelease.gdb\\PlayaVector\\WetlandsDissolve_PlayaFinal\"\n",
    "\n",
    "# A list of fields in the feature class that will be updated (all fields with 'lt' prefix)\n",
    "field_names = [f.name for f in arcpy.ListFields(fc, 'lt*')]"
   ]
  },
  {
   "cell_type": "code",
   "execution_count": null,
   "metadata": {},
   "outputs": [],
   "source": [
    "# Add a temporary field to the attribute table where data will be stored while the old Text field is\n",
    "# removed and the new Double field is created.\n",
    "\n",
    "arcpy.AddField_management (fc, \"temp\", \"DOUBLE\", )"
   ]
  },
  {
   "cell_type": "code",
   "execution_count": null,
   "metadata": {},
   "outputs": [],
   "source": [
    "# Loop over each field in the list 'field_names' performing the following process:\n",
    "# 1.  Copy data from one column to the temp column using CalculateField.\n",
    "# 2.  Delete original field with Type = Text\n",
    "# 3.  Add a new field labelled idenitically to the deleted field, with Type = Double\n",
    "# 4.  Copy data from the temp column to the new field using CalculateField\n",
    "\n",
    "for name in field_names:\n",
    "    arcpy.CalculateField_management(in_table=fc, field=\"temp\", expression=\"!{}!\".format(name), expression_type=\"PYTHON_9.3\", code_block=\"\")\n",
    "    arcpy.DeleteField_management (fc, str(name))\n",
    "    arcpy.AddField_management (fc, str(name), \"DOUBLE\", )\n",
    "    arcpy.CalculateField_management(in_table=fc, field=str(name), expression=\"!temp!\", expression_type=\"PYTHON_9.3\", code_block=\"\")\n",
    "    \n",
    "# Delete the temp column   \n",
    "arcpy.DeleteField_management (fc, \"temp\")"
   ]
  }
 ],
 "metadata": {
  "kernelspec": {
   "display_name": "Python 2",
   "language": "python",
   "name": "python2"
  },
  "language_info": {
   "codemirror_mode": {
    "name": "ipython",
    "version": 2
   },
   "file_extension": ".py",
   "mimetype": "text/x-python",
   "name": "python",
   "nbconvert_exporter": "python",
   "pygments_lexer": "ipython2",
   "version": "2.7.14"
  }
 },
 "nbformat": 4,
 "nbformat_minor": 2
}

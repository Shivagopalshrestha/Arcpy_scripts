{
 "cells": [
  {
   "cell_type": "code",
   "execution_count": 20,
   "metadata": {},
   "outputs": [],
   "source": [
    "import arcpy\n",
    "import os"
   ]
  },
  {
   "cell_type": "code",
   "execution_count": 87,
   "metadata": {},
   "outputs": [
    {
     "data": {
      "text/plain": [
       "[u'N:\\\\GISData\\\\Active\\\\Bowen_WYRoads_2015\\\\DerivedData\\\\WyomingRoads2015.gdb\\\\NorthWestBlock\\\\NW_100kQuadBoundaries',\n",
       " u'N:\\\\GISData\\\\Active\\\\Bowen_WYRoads_2015\\\\DerivedData\\\\WyomingRoads2015.gdb\\\\WestCentralBlock\\\\WC_100kQuadBoundaries',\n",
       " u'N:\\\\GISData\\\\Active\\\\Bowen_WYRoads_2015\\\\DerivedData\\\\WyomingRoads2015.gdb\\\\SouthWestBlock\\\\SW_100kQuadBoundaries',\n",
       " u'N:\\\\GISData\\\\Active\\\\Bowen_WYRoads_2015\\\\DerivedData\\\\WyomingRoads2015.gdb\\\\NorthEastBlock\\\\NE_100kQuadBoundaries',\n",
       " u'N:\\\\GISData\\\\Active\\\\Bowen_WYRoads_2015\\\\DerivedData\\\\WyomingRoads2015.gdb\\\\SouthEastBlock\\\\SE_100kQuadBoundaries']"
      ]
     },
     "execution_count": 87,
     "metadata": {},
     "output_type": "execute_result"
    }
   ],
   "source": [
    "#Set workspace, initiate empty list that will house our Feature Classes\n",
    "workspace = \"N:\\GISData\\Active\\Bowen_WYRoads_2015\\DerivedData\\WyomingRoads2015.gdb\"\n",
    "fcs = []\n",
    "\n",
    "#Walk the file geodatabase looking for the 100k quad Feature Classes we are interested in\n",
    "walk = arcpy.da.Walk(workspace, datatype=\"FeatureClass\")\n",
    "\n",
    "for dirpath, dirnames, filenames in walk:\n",
    "    for filename in filenames:\n",
    "        if filename.endswith('QuadBoundaries'):\n",
    "            fcs.append(os.path.join(dirpath, filename))\n",
    "            \n",
    "fcs"
   ]
  },
  {
   "cell_type": "code",
   "execution_count": 60,
   "metadata": {},
   "outputs": [
    {
     "data": {
      "text/plain": [
       "[u'N:\\\\GISData\\\\Active\\\\Bowen_WYRoads_2015\\\\DerivedData\\\\QAQC\\\\Dissovled_100kQuads\\\\NW_100kQuadBoundaries.shp',\n",
       " u'N:\\\\GISData\\\\Active\\\\Bowen_WYRoads_2015\\\\DerivedData\\\\QAQC\\\\Dissovled_100kQuads\\\\WC_100kQuadBoundaries.shp',\n",
       " u'N:\\\\GISData\\\\Active\\\\Bowen_WYRoads_2015\\\\DerivedData\\\\QAQC\\\\Dissovled_100kQuads\\\\SW_100kQuadBoundaries.shp',\n",
       " u'N:\\\\GISData\\\\Active\\\\Bowen_WYRoads_2015\\\\DerivedData\\\\QAQC\\\\Dissovled_100kQuads\\\\NE_100kQuadBoundaries.shp',\n",
       " u'N:\\\\GISData\\\\Active\\\\Bowen_WYRoads_2015\\\\DerivedData\\\\QAQC\\\\Dissovled_100kQuads\\\\SE_100kQuadBoundaries.shp']"
      ]
     },
     "execution_count": 60,
     "metadata": {},
     "output_type": "execute_result"
    }
   ],
   "source": [
    "#Dissolve our Feature Classes so that they consist of just one feature, export to shapefile.  \n",
    "#Add shapefiles to an empty list.\n",
    "diss_shps = []\n",
    "for fc in fcs:\n",
    "    out_feature = os.path.join(\"N:\\GISData\\Active\\Bowen_WYRoads_2015\\DerivedData\\QAQC\\Dissovled_100kQuads\", \n",
    "                               fc.rsplit('\\\\', 1)[-1] + '.shp')\n",
    "    diss_shps.append(out_feature)\n",
    "    arcpy.Dissolve_management(fc, out_feature)\n",
    "    \n",
    "diss_shps"
   ]
  },
  {
   "cell_type": "markdown",
   "metadata": {},
   "source": [
    "#### Select the randomly selected quads that have their centroid within each of the dissolved shapefiles.  Export the selection to new shapefiles.\n"
   ]
  },
  {
   "cell_type": "code",
   "execution_count": 82,
   "metadata": {},
   "outputs": [
    {
     "name": "stdout",
     "output_type": "stream",
     "text": [
      "40\n",
      "60\n",
      "60\n",
      "60\n",
      "60\n"
     ]
    }
   ],
   "source": [
    "# Set workspace, overwrite option, and variables.\n",
    "arcpy.env.workspace = \"N:\\GISData\\Active\\Bowen_WYRoads_2015\\DerivedData\\QAQC\\Dissovled_100kQuads\"\n",
    "arcpy.env.overwriteOutput = True \n",
    "    \n",
    "sel_quads = 'N:\\GISData\\Active\\Bowen_WYRoads_2015\\DerivedData\\QAQC\\Selected24kQuads.shp'\n",
    "clip_shps = []\n",
    "\n",
    "for shp in diss_shps:\n",
    "    out_clip = os.path.join(\"N:\\GISData\\Active\\Bowen_WYRoads_2015\\DerivedData\\QAQC\\Clipped_24kQuads\", \n",
    "                            shp.rsplit('\\\\', 1)[-1].split('_')[0] + '_24kQuads.shp')\n",
    "    clip_shps.append(out_clip)\n",
    "    \n",
    "    arcpy.MakeFeatureLayer_management('N:\\GISData\\Active\\Bowen_WYRoads_2015\\DerivedData\\QAQC\\Selected24kQuads.shp',\n",
    "                                      \"sel_quads\")\n",
    "    \n",
    "    selection = arcpy.SelectLayerByLocation_management(\"sel_quads\", \"HAVE_THEIR_CENTER_IN\", shp, \"\", \"NEW_SELECTION\")\n",
    "    \n",
    "    #Ensure the correct amount of features are being selected.\n",
    "    matchcount = int(arcpy.GetCount_management(selection)[0]) \n",
    "    print(matchcount)\n",
    "    \n",
    "    arcpy.CopyFeatures_management(selection, out_clip) "
   ]
  },
  {
   "cell_type": "code",
   "execution_count": 99,
   "metadata": {},
   "outputs": [
    {
     "data": {
      "text/plain": [
       "[u'N:\\\\GISData\\\\Active\\\\Bowen_WYRoads_2015\\\\DerivedData\\\\WyomingRoads2015.gdb\\\\NorthWestBlock\\\\NW_WYRoads_2015_Clip',\n",
       " u'N:\\\\GISData\\\\Active\\\\Bowen_WYRoads_2015\\\\DerivedData\\\\WyomingRoads2015.gdb\\\\WestCentralBlock\\\\WC_Roads',\n",
       " u'N:\\\\GISData\\\\Active\\\\Bowen_WYRoads_2015\\\\DerivedData\\\\WyomingRoads2015.gdb\\\\SouthWestBlock\\\\SW_WYRoads_2015_Clip_1',\n",
       " u'N:\\\\GISData\\\\Active\\\\Bowen_WYRoads_2015\\\\DerivedData\\\\WyomingRoads2015.gdb\\\\NorthEastBlock\\\\NE_WYRoads_2015_Clip',\n",
       " u'N:\\\\GISData\\\\Active\\\\Bowen_WYRoads_2015\\\\DerivedData\\\\WyomingRoads2015.gdb\\\\SouthEastBlock\\\\SE_WYRoads_2015_Clip']"
      ]
     },
     "execution_count": 99,
     "metadata": {},
     "output_type": "execute_result"
    }
   ],
   "source": [
    "#Walk the file geodatabase looking for the road Feature Classes we are interested in\n",
    "walk_rd = arcpy.da.Walk(workspace, datatype=\"FeatureClass\")\n",
    "fc_rd = []\n",
    "\n",
    "for dirpath, dirnames, filenames in walk_rd:\n",
    "    for filename in filenames:\n",
    "        if 'Road' in filename:\n",
    "            fc_rd.append(os.path.join(dirpath, filename))\n",
    "            \n",
    "roads = fc_rd[-5:]\n",
    "roads"
   ]
  },
  {
   "cell_type": "code",
   "execution_count": 138,
   "metadata": {},
   "outputs": [
    {
     "name": "stdout",
     "output_type": "stream",
     "text": [
      "N:\\GISData\\Active\\Bowen_WYRoads_2015\\DerivedData\\QAQC\\Clipped_Roads\\NW_WYRoads_Clip.shp\n",
      "N:\\GISData\\Active\\Bowen_WYRoads_2015\\DerivedData\\QAQC\\Clipped_Roads\\WC_WYRoads_Clip.shp\n",
      "N:\\GISData\\Active\\Bowen_WYRoads_2015\\DerivedData\\QAQC\\Clipped_Roads\\SW_WYRoads_Clip.shp\n",
      "N:\\GISData\\Active\\Bowen_WYRoads_2015\\DerivedData\\QAQC\\Clipped_Roads\\NE_WYRoads_Clip.shp\n",
      "N:\\GISData\\Active\\Bowen_WYRoads_2015\\DerivedData\\QAQC\\Clipped_Roads\\SE_WYRoads_Clip.shp\n"
     ]
    }
   ],
   "source": [
    "#Clip the roads layers to the randomly selected 24k quads, then create a point shapefile that contains randomly generated\n",
    "#points, one for each road.\n",
    "\n",
    "rnd_pt_list = []\n",
    "\n",
    "for rd in roads:\n",
    "    out_clip_rd = os.path.join(\"N:\\GISData\\Active\\Bowen_WYRoads_2015\\DerivedData\\QAQC\\Clipped_Roads\", \n",
    "                               rd.rsplit('\\\\', 1)[-1].split('_')[0] + '_WYRoads_Clip.shp')\n",
    "    arcpy.Clip_analysis(rd, sel_quads, out_clip_rd)\n",
    "    arcpy.AddField_management(out_clip_rd, \"Random\", \"SHORT\")\n",
    "    arcpy.CalculateField_management(out_clip_rd, \"Random\", \"1\", \"PYTHON_9.3\")\n",
    "    rnd_pts = arcpy.CreateRandomPoints_management(out_path=\"N:/GISData/Active/Bowen_WYRoads_2015/DerivedData/QAQC/Random_Points\", \n",
    "                                    out_name=(out_clip_rd.rsplit('\\\\', 1)[-1].rsplit('_', 1)[0] + '_RandomPt'),\n",
    "                                    constraining_feature_class=out_clip_rd, constraining_extent=\"0 0 250 250\",\n",
    "                                    number_of_points_or_field=\"Random\", minimum_allowed_distance=\"50 Meters\",\n",
    "                                    create_multipoint_output=\"POINT\", multipoint_size=\"0\")\n",
    "    rnd_pt_list.append(rnd_pts)\n",
    "    \n",
    "    print(out_clip_rd)"
   ]
  },
  {
   "cell_type": "code",
   "execution_count": 161,
   "metadata": {
    "scrolled": true
   },
   "outputs": [],
   "source": [
    "#Randomly select half of the points to be assessed during QAQC.  This creates a more manageable, but still statistically\n",
    "#significant subset.  Add fields that will be used to track errors and progress.\n",
    "\n",
    "#Code block for input to Calculate Field operation.\n",
    "codeblock = \"\"\"\n",
    "def rand_num():  \n",
    "    import random  \n",
    "    return random.randint(0,1)\"\"\"\n",
    "\n",
    "for pt in rnd_pt_list:\n",
    "    arcpy.AddField_management(pt, \"Random\", \"SHORT\")\n",
    "    arcpy.AddField_management(pt, \"Attr_Err\", \"TEXT\", field_length='1')\n",
    "    arcpy.AddField_management(pt, \"Pos_Err\", \"TEXT\", field_length='1')\n",
    "    arcpy.AddField_management(pt, \"Om_Err\", \"TEXT\", field_length='1')\n",
    "    arcpy.AddField_management(pt, \"Com_Err\", \"TEXT\", field_length='1')\n",
    "    arcpy.AddField_management(pt, \"Assessed\", \"TEXT\", field_length='1')\n",
    "    arcpy.CalculateField_management(in_table=pt, field=\"Random\", expression='rand_num()', expression_type=\"PYTHON_9.3\", code_block=codeblock)"
   ]
  }
 ],
 "metadata": {
  "kernelspec": {
   "display_name": "Python 2",
   "language": "python",
   "name": "python2"
  },
  "language_info": {
   "codemirror_mode": {
    "name": "ipython",
    "version": 2
   },
   "file_extension": ".py",
   "mimetype": "text/x-python",
   "name": "python",
   "nbconvert_exporter": "python",
   "pygments_lexer": "ipython2",
   "version": "2.7.12"
  }
 },
 "nbformat": 4,
 "nbformat_minor": 2
}

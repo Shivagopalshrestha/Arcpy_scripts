{
 "cells": [
  {
   "cell_type": "code",
   "execution_count": 1,
   "metadata": {},
   "outputs": [],
   "source": [
    "import arcpy"
   ]
  },
  {
   "cell_type": "code",
   "execution_count": null,
   "metadata": {},
   "outputs": [],
   "source": [
    "# Set overwrite option\n",
    "arcpy.env.overwriteOutput = True"
   ]
  },
  {
   "cell_type": "code",
   "execution_count": null,
   "metadata": {},
   "outputs": [],
   "source": [
    "# KEEPING ORIGINAL LAYERS (NOT CREATING ADDITIONAL \"JOINED\" LAYER)\n",
    "# Create FeatureLayers\n",
    "arcpy.MakeFeatureLayer_management(\"N:\\GISData\\Active\\Bowen_WYRoads_2015\\DerivedData\\QAQC\\TopoWY24K_UTM12_NAD83.shp\", \"lyr_24k\")\n",
    "arcpy.MakeFeatureLayer_management(\"N:\\GISData\\Active\\Bowen_WYRoads_2015\\SourceData\\Topo100k_WYExtended.shp\", \"lyr_100k\")"
   ]
  },
  {
   "cell_type": "code",
   "execution_count": null,
   "metadata": {},
   "outputs": [],
   "source": [
    "# Add an \"SIDE_CODE\" field   (remove this if the field already exists...)\n",
    "arcpy.AddField_management(\"lyr_24k\", \"Quad_100k\", \"TEXT\", \"\", \"\", \"100\")"
   ]
  },
  {
   "cell_type": "code",
   "execution_count": null,
   "metadata": {},
   "outputs": [],
   "source": [
    "# Create a search cursor for the states\n",
    "rows = arcpy.SearchCursor(\"lyr_100k\")\n",
    "for row in rows:\n",
    "    # What you'll do is select each neighborhood one at a time, and then select all the parcels in that neighborhood and calculate the SITE_CODE field\n",
    "    # NOTE: If you are using not using shapefiles, then you'll have to change the FID in the line below to OBJECTID (or similar)\n",
    "    arcpy.SelectLayerByAttribute_management(\"lyr_100k\", \"NEW_SELECTION\", \"\\\"FID\\\" = \" + str(row.getValue(\"FID\")))\n",
    "    arcpy.SelectLayerByLocation_management(\"lyr_24k\", \"HAVE_THEIR_CENTER_IN\", \"lyr_100k\", \"\", \"NEW_SELECTION\")\n",
    "    arcpy.CalculateField_management(\"lyr_24k\", \"Quad_100k\", \"'{0}'\".format(str(row.getValue(\"QUAD_NAME\"))), \"PYTHON_9.3\", \"\")\n",
    "    print \"Finished processing \" + str(row.getValue(\"QUAD_NAME\")) "
   ]
  }
 ],
 "metadata": {
  "kernelspec": {
   "display_name": "Python 2",
   "language": "python",
   "name": "python2"
  },
  "language_info": {
   "codemirror_mode": {
    "name": "ipython",
    "version": 2
   },
   "file_extension": ".py",
   "mimetype": "text/x-python",
   "name": "python",
   "nbconvert_exporter": "python",
   "pygments_lexer": "ipython2",
   "version": "2.7.12"
  }
 },
 "nbformat": 4,
 "nbformat_minor": 2
}

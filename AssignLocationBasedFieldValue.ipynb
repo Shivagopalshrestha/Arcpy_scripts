{
 "cells": [
  {
   "cell_type": "code",
   "execution_count": null,
   "metadata": {},
   "outputs": [],
   "source": [
    "import arcpy"
   ]
  },
  {
   "cell_type": "code",
   "execution_count": null,
   "metadata": {},
   "outputs": [],
   "source": [
    "# Set overwrite option\n",
    "arcpy.env.overwriteOutput = True"
   ]
  },
  {
   "cell_type": "code",
   "execution_count": null,
   "metadata": {},
   "outputs": [],
   "source": [
    "# KEEPING ORIGINAL LAYERS (NOT CREATING ADDITIONAL \"JOINED\" LAYER)\n",
    "# Create FeatureLayers\n",
    "quads_24k = <<path the layer containing the 24k quads>>\n",
    "quads_100k = <<path the layer containing the 100k quads>>\n",
    "\n",
    "arcpy.MakeFeatureLayer_management(quads_24k, \"lyr_24k\")\n",
    "arcpy.MakeFeatureLayer_management(quads_100k, \"lyr_100k\")"
   ]
  },
  {
   "cell_type": "code",
   "execution_count": null,
   "metadata": {},
   "outputs": [],
   "source": [
    "# Add a field to the 24k quads layer that will contain the name of the 100k quad that is it within   \n",
    "# comment this cell out if the field already exists\n",
    "arcpy.AddField_management(\"lyr_24k\", \"Quad_100k\", \"TEXT\", \"\", \"\", \"100\")"
   ]
  },
  {
   "cell_type": "code",
   "execution_count": null,
   "metadata": {},
   "outputs": [],
   "source": [
    "# Create a search cursor\n",
    "rows = arcpy.SearchCursor(\"lyr_100k\")\n",
    "for row in rows:\n",
    "    # Select each 100k quad one at a time, and then select all the 24k quads within that 100k quad and calculate the previously added field\n",
    "    # NOTE: If you are using not using shapefiles, then you'll have to change the FID in the line below to OBJECTID (or similar)\n",
    "    arcpy.SelectLayerByAttribute_management(\"lyr_100k\", \"NEW_SELECTION\", \"\\\"FID\\\" = \" + str(row.getValue(\"FID\")))\n",
    "    arcpy.SelectLayerByLocation_management(\"lyr_24k\", \"HAVE_THEIR_CENTER_IN\", \"lyr_100k\", \"\", \"NEW_SELECTION\")\n",
    "    arcpy.CalculateField_management(\"lyr_24k\", \"Quad_100k\", \"'{0}'\".format(str(row.getValue(\"QUAD_NAME\"))), \"PYTHON_9.3\", \"\")\n",
    "    print \"Finished processing \" + str(row.getValue(\"QUAD_NAME\")) "
   ]
  }
 ],
 "metadata": {
  "kernelspec": {
   "display_name": "Python 2",
   "language": "python",
   "name": "python2"
  },
  "language_info": {
   "codemirror_mode": {
    "name": "ipython",
    "version": 2
   },
   "file_extension": ".py",
   "mimetype": "text/x-python",
   "name": "python",
   "nbconvert_exporter": "python",
   "pygments_lexer": "ipython2",
   "version": "2.7.12"
  }
 },
 "nbformat": 4,
 "nbformat_minor": 2
}

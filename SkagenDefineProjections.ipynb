{
 "cells": [
  {
   "cell_type": "code",
   "execution_count": null,
   "metadata": {},
   "outputs": [],
   "source": [
    "import os\n",
    "import arcpy"
   ]
  },
  {
   "cell_type": "markdown",
   "metadata": {},
   "source": [
    "#### Create a list of files that need their projection defined"
   ]
  },
  {
   "cell_type": "code",
   "execution_count": null,
   "metadata": {},
   "outputs": [],
   "source": [
    "dir = <<path the directory where the files are found>>\n",
    "\n",
    "# Create a list of subdirectories that contain the files we need to work on.\n",
    "folders  = []\n",
    "for root, dirs, files in os.walk(dir):\n",
    "    for name in dirs:\n",
    "        folders.append(os.path.join(dir, name))\n",
    "\n",
    "# Create the list of files in all directories that we need to work on. \n",
    "tifs = []\n",
    "for folder in folders:\n",
    "    for root, dirs, files in os.walk(folder):\n",
    "        for name in files:\n",
    "            tifs.append(os.path.join(folder, name))\n",
    "            \n",
    "tifs"
   ]
  },
  {
   "cell_type": "code",
   "execution_count": null,
   "metadata": {},
   "outputs": [],
   "source": [
    "# Define the appropriate projection for all files.\n",
    "sr = arcpy.SpatialReference(\"WGS 1984\")\n",
    "\n",
    "for tif in tifs:\n",
    "    arcpy.DefineProjection_management(tif, sr)"
   ]
  }
 ],
 "metadata": {
  "kernelspec": {
   "display_name": "Python 3",
   "language": "python",
   "name": "python3"
  },
  "language_info": {
   "codemirror_mode": {
    "name": "ipython",
    "version": 3
   },
   "file_extension": ".py",
   "mimetype": "text/x-python",
   "name": "python",
   "nbconvert_exporter": "python",
   "pygments_lexer": "ipython3",
   "version": "3.5.2"
  }
 },
 "nbformat": 4,
 "nbformat_minor": 2
}
